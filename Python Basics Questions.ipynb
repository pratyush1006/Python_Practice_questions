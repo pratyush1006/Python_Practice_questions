{
 "cells": [
  {
   "cell_type": "markdown",
   "id": "84f43bd5",
   "metadata": {},
   "source": [
    "# Basic questions of Python"
   ]
  },
  {
   "cell_type": "markdown",
   "id": "3f4bdf01",
   "metadata": {},
   "source": [
    "# String"
   ]
  },
  {
   "cell_type": "code",
   "execution_count": 1,
   "id": "c69b0ddd",
   "metadata": {},
   "outputs": [
    {
     "name": "stdout",
     "output_type": "stream",
     "text": [
      "Enter your name: PRATYUSH DEEP\n",
      "Hello PRATYUSH DEEP\n"
     ]
    }
   ],
   "source": [
    "##1. take name as input and say hello\n",
    "name = input(\"Enter your name: \")\n",
    "print(\"Hello {}\".format(name))"
   ]
  },
  {
   "cell_type": "code",
   "execution_count": 2,
   "id": "f8c4039c",
   "metadata": {},
   "outputs": [
    {
     "name": "stdout",
     "output_type": "stream",
     "text": [
      "Count of 'is' is: 2\n"
     ]
    }
   ],
   "source": [
    "# 2. From below string print count of \"Is\".\n",
    "string = \"He is Amol and she is Chaitali\"\n",
    "occurance_of_is = string.count(\"is\")\n",
    "print(\"Count of 'is' is: {}\".format(occurance_of_is))"
   ]
  },
  {
   "cell_type": "code",
   "execution_count": 3,
   "id": "6b19a1ca",
   "metadata": {},
   "outputs": [
    {
     "name": "stdout",
     "output_type": "stream",
     "text": [
      "['Data', 'is', 'new', 'oil']\n"
     ]
    }
   ],
   "source": [
    "# 3. from below string split the words by space\n",
    "string = \"Data is new oil\"\n",
    "print(string.split(\" \"))"
   ]
  },
  {
   "cell_type": "code",
   "execution_count": 4,
   "id": "eabcac6e",
   "metadata": {},
   "outputs": [
    {
     "name": "stdout",
     "output_type": "stream",
     "text": [
      "Data=is=new=oil\n"
     ]
    }
   ],
   "source": [
    "# 4. now from below list, join all words by \"=\" and create a sentence.\n",
    "list_1 = [\"Data\", \"is\", \"new\", \"oil\"]\n",
    "string = \"=\".join(list_1)\n",
    "print(string)"
   ]
  },
  {
   "cell_type": "code",
   "execution_count": 5,
   "id": "dbc181a2",
   "metadata": {},
   "outputs": [
    {
     "name": "stdout",
     "output_type": "stream",
     "text": [
      "I love programming in Python.\n"
     ]
    }
   ],
   "source": [
    "# 5. from below string replace \"Java\" with \"Python\"\n",
    "sentence = \"I love programming in Java.\"\n",
    "new_sentence = sentence.replace(\"Java\",\"Python\")\n",
    "print(new_sentence)"
   ]
  },
  {
   "cell_type": "code",
   "execution_count": 6,
   "id": "345243fe",
   "metadata": {},
   "outputs": [
    {
     "name": "stdout",
     "output_type": "stream",
     "text": [
      "This is a message with spaces.\n"
     ]
    }
   ],
   "source": [
    "# 6. from below string remove(strip) additional spaces and print it\n",
    "message = \"   This is a message with spaces.   \"\n",
    "print(message.strip())"
   ]
  },
  {
   "cell_type": "code",
   "execution_count": 7,
   "id": "bc0f82b1",
   "metadata": {},
   "outputs": [
    {
     "name": "stdout",
     "output_type": "stream",
     "text": [
      "Start in of sample is 10\n"
     ]
    }
   ],
   "source": [
    "#7. From below string find postion(start index) of \"sample\"\n",
    "sentence = \"This is a sample sentence.\"\n",
    "index_of_sample = sentence.index(\"sample\")\n",
    "print(\"Start in of sample is {}\".format(index_of_sample))"
   ]
  },
  {
   "cell_type": "code",
   "execution_count": 8,
   "id": "9aa8622d",
   "metadata": {},
   "outputs": [
    {
     "name": "stdout",
     "output_type": "stream",
     "text": [
      "Length of text is 14\n"
     ]
    }
   ],
   "source": [
    "#8. Given the string \"Python is fun!\", how can you calculate and print its length?\n",
    "text = \"Python is fun!\"\n",
    "text_length = len(text)\n",
    "print(\"Length of text is {}\".format(text_length))"
   ]
  },
  {
   "cell_type": "code",
   "execution_count": 9,
   "id": "f87cc935",
   "metadata": {},
   "outputs": [
    {
     "name": "stdout",
     "output_type": "stream",
     "text": [
      "The reverse order of the string 'Pineapple' is elppaeniP\n"
     ]
    }
   ],
   "source": [
    "#9. Print below string in reverse order\n",
    "string = \"Pineapple\"\n",
    "reverse_string = string[::-1]\n",
    "print(\"The reverse order of the string 'Pineapple' is {}\".format(reverse_string))"
   ]
  },
  {
   "cell_type": "code",
   "execution_count": 10,
   "id": "e3d1f884",
   "metadata": {},
   "outputs": [
    {
     "name": "stdout",
     "output_type": "stream",
     "text": [
      "Welcome To Python Programming.\n"
     ]
    }
   ],
   "source": [
    "#10. Given the string \"Welcome to Python Programming.\",how can you capitalize the first letter of each word and print the modified string?\n",
    "text = \"Welcome to Python Programming.\"\n",
    "captalize_text = text.title()\n",
    "print(captalize_text)\n"
   ]
  },
  {
   "cell_type": "code",
   "execution_count": 11,
   "id": "df1411d7",
   "metadata": {},
   "outputs": [
    {
     "name": "stdout",
     "output_type": "stream",
     "text": [
      "DATA IS NEW OIL\n"
     ]
    }
   ],
   "source": [
    "#11. Convert all letter of string to Upper Case\n",
    "text = \"Data is new oil\"\n",
    "print(text.upper())"
   ]
  },
  {
   "cell_type": "code",
   "execution_count": 12,
   "id": "2e25f9ca",
   "metadata": {},
   "outputs": [
    {
     "name": "stdout",
     "output_type": "stream",
     "text": [
      "I am learning python\n"
     ]
    }
   ],
   "source": [
    "#12. From below string just convert first lettter of string to upper case\n",
    "text = \"i am learning python\"\n",
    "print(text.capitalize())"
   ]
  },
  {
   "cell_type": "code",
   "execution_count": 13,
   "id": "0680b181",
   "metadata": {},
   "outputs": [
    {
     "name": "stdout",
     "output_type": "stream",
     "text": [
      "dAta IS nEw Oil\n"
     ]
    }
   ],
   "source": [
    "#13. Convert all uppper case to lower and lower case to upper\n",
    "text = \"DaTA is NeW oIL\"\n",
    "print(text.swapcase())"
   ]
  },
  {
   "cell_type": "code",
   "execution_count": 14,
   "id": "43b727a0",
   "metadata": {},
   "outputs": [
    {
     "name": "stdout",
     "output_type": "stream",
     "text": [
      "50\n"
     ]
    }
   ],
   "source": [
    "#14. print the addition of below 2 strings\n",
    "a = 20\n",
    "b = 30\n",
    "print(a+b)\n"
   ]
  },
  {
   "cell_type": "code",
   "execution_count": 15,
   "id": "3f7467c5",
   "metadata": {},
   "outputs": [
    {
     "name": "stdout",
     "output_type": "stream",
     "text": [
      "50\n"
     ]
    }
   ],
   "source": [
    "#15. print the additiono of below 2 strings\n",
    "a = \"20\"    \n",
    "b = \"30\"\n",
    "print(int(a)+int(b)) #when we typecast the string into integer"
   ]
  },
  {
   "cell_type": "code",
   "execution_count": 16,
   "id": "c99f96cf",
   "metadata": {},
   "outputs": [
    {
     "name": "stdout",
     "output_type": "stream",
     "text": [
      "2030\n"
     ]
    }
   ],
   "source": [
    "a = \"20\"\n",
    "b = \"30\"\n",
    "print(a+b) # the value of a and b is treated as string "
   ]
  },
  {
   "cell_type": "markdown",
   "id": "8d7a727d",
   "metadata": {},
   "source": [
    "# List"
   ]
  },
  {
   "cell_type": "code",
   "execution_count": 17,
   "id": "de8b6417",
   "metadata": {},
   "outputs": [
    {
     "name": "stdout",
     "output_type": "stream",
     "text": [
      "[1, 2, 3, 44, 5]\n"
     ]
    }
   ],
   "source": [
    "## 16. From below list replace 4 with 44\n",
    "my_list = [1, 2, 3, 4, 5]\n",
    "my_list[3]= 44\n",
    "print(my_list)"
   ]
  },
  {
   "cell_type": "code",
   "execution_count": 18,
   "id": "760b3842",
   "metadata": {},
   "outputs": [
    {
     "name": "stdout",
     "output_type": "stream",
     "text": [
      "[1, 2, 3, 200, 4, 5]\n"
     ]
    }
   ],
   "source": [
    "## 17. In below list add(insert) 200 at index 3\n",
    "my_list = [1, 2, 3, 4, 5]\n",
    "my_list.insert(3,200) \n",
    "print(my_list)"
   ]
  },
  {
   "cell_type": "code",
   "execution_count": 19,
   "id": "25ee40e6",
   "metadata": {},
   "outputs": [
    {
     "name": "stdout",
     "output_type": "stream",
     "text": [
      "[1, 2, 3, 4, 5, 66]\n"
     ]
    }
   ],
   "source": [
    "## 18. In below list add new number 66\n",
    "my_list = [1, 2, 3, 4, 5]\n",
    "my_list.append(66)\n",
    "print(my_list)"
   ]
  },
  {
   "cell_type": "code",
   "execution_count": 20,
   "id": "f5b3d165",
   "metadata": {},
   "outputs": [
    {
     "name": "stdout",
     "output_type": "stream",
     "text": [
      "[1, 2, 3, 4, 5, 66, 87, 99]\n"
     ]
    }
   ],
   "source": [
    "## 19 In below list insert new numbers 66,87,99\n",
    "my_list = [1, 2, 3, 4, 5]\n",
    "my_list.extend([66,87,99])\n",
    "print(my_list)"
   ]
  },
  {
   "cell_type": "code",
   "execution_count": 21,
   "id": "d68293ad",
   "metadata": {},
   "outputs": [
    {
     "name": "stdout",
     "output_type": "stream",
     "text": [
      "[1, 2, 4, 5]\n"
     ]
    }
   ],
   "source": [
    "## 20. from below list remove number 3\n",
    "my_list = [1, 2, 3, 4, 5]\n",
    "my_list.pop(2)\n",
    "print(my_list)\n",
    "\n",
    "#\"or\"\n",
    "\n",
    "# my_list = [1, 2, 3, 4, 5]\n",
    "# my_list.remove(3)\n",
    "# print(my_list)"
   ]
  },
  {
   "cell_type": "code",
   "execution_count": 22,
   "id": "e565ced7",
   "metadata": {},
   "outputs": [
    {
     "name": "stdout",
     "output_type": "stream",
     "text": [
      "2\n"
     ]
    }
   ],
   "source": [
    "## 21. From below list print count of \"cherry\"\n",
    "my_list = [1, 2.5, \"cherry\", 3, \"banana\", 4.0, \"cherry\"]\n",
    "print(my_list.count(\"cherry\"))"
   ]
  },
  {
   "cell_type": "code",
   "execution_count": 23,
   "id": "4dc494a5",
   "metadata": {},
   "outputs": [
    {
     "name": "stdout",
     "output_type": "stream",
     "text": [
      "4\n"
     ]
    }
   ],
   "source": [
    "## 22. From below list print index of \"banana\"\n",
    "my_list = [1, 2.5, \"apple\", 3, \"banana\", 4.0, \"cherry\"]\n",
    "print(my_list.index(\"banana\"))"
   ]
  },
  {
   "cell_type": "code",
   "execution_count": 24,
   "id": "48437da5",
   "metadata": {},
   "outputs": [
    {
     "name": "stdout",
     "output_type": "stream",
     "text": [
      "['Pune', 'Delhi', 'Mumbai', 'Indore', 'Jaipur']\n"
     ]
    }
   ],
   "source": [
    "## 23. From below list remove last item\n",
    "my_list = [\"Pune\",\"Delhi\",\"Mumbai\",\"Indore\",\"Jaipur\",\"Dehradun\"]\n",
    "my_list.pop()\n",
    "print(my_list)"
   ]
  },
  {
   "cell_type": "code",
   "execution_count": 25,
   "id": "a3451761",
   "metadata": {},
   "outputs": [
    {
     "name": "stdout",
     "output_type": "stream",
     "text": [
      "['Apple', 'Banana', 'Cherry', 'Grapes', 'Mango']\n"
     ]
    }
   ],
   "source": [
    "## 24. Sort the below list in Alphabetical order\n",
    "my_list = [\"Grapes\",\"Apple\",\"Cherry\",\"Mango\",\"Banana\"]\n",
    "my_list.sort()\n",
    "print(my_list)"
   ]
  },
  {
   "cell_type": "code",
   "execution_count": 26,
   "id": "e001f510",
   "metadata": {},
   "outputs": [
    {
     "name": "stdout",
     "output_type": "stream",
     "text": [
      "['Mango', 'Grapes', 'Cherry', 'Banana', 'Apple']\n"
     ]
    }
   ],
   "source": [
    "## 25. Sort below list in reverse Alphabetical order\n",
    "my_list = [\"Grapes\",\"Apple\",\"Cherry\",\"Mango\",\"Banana\"]\n",
    "my_list.sort(reverse=True)\n",
    "print(my_list)"
   ]
  },
  {
   "cell_type": "code",
   "execution_count": 1,
   "id": "0a1077a1",
   "metadata": {},
   "outputs": [],
   "source": [
    "## 26.Create a list named myList that has three elements:\n",
    " #The integer 3\n",
    " # The string \"element number two\"\n",
    " # Another list ['last','element']\n",
    " # in that order\n",
    "myList = [3,\"element number two\",[\"last\",\"element\"]]"
   ]
  },
  {
   "cell_type": "code",
   "execution_count": 2,
   "id": "08345426",
   "metadata": {},
   "outputs": [
    {
     "name": "stdout",
     "output_type": "stream",
     "text": [
      "3\n"
     ]
    }
   ],
   "source": [
    "## 27.Print  the third element of the following list.\n",
    "l = [1,2,3,4,5,6,7,8,9]\n",
    "print(l[2])"
   ]
  },
  {
   "cell_type": "code",
   "execution_count": 3,
   "id": "921e2b1c",
   "metadata": {},
   "outputs": [
    {
     "name": "stdout",
     "output_type": "stream",
     "text": [
      "['a', 'b', 16]\n"
     ]
    }
   ],
   "source": [
    "## 28. Modify the last element of this list so that its value is 16. Print the modified list so you know the operation was performed successfully.\n",
    "listToModify = [\"a\",\"b\",\"sixteen\"]\n",
    "listToModify[-1]=16\n",
    "print(listToModify)"
   ]
  },
  {
   "cell_type": "code",
   "execution_count": 4,
   "id": "f2b186f3",
   "metadata": {},
   "outputs": [
    {
     "name": "stdout",
     "output_type": "stream",
     "text": [
      "8\n"
     ]
    }
   ],
   "source": [
    "## 29.Calculate the length of the following list.\n",
    "ListToFindLength =['this','is','the','list','whose','length','I','want']\n",
    "print(len(ListToFindLength))"
   ]
  },
  {
   "cell_type": "code",
   "execution_count": 5,
   "id": "bfac2ff7",
   "metadata": {},
   "outputs": [
    {
     "name": "stdout",
     "output_type": "stream",
     "text": [
      "3632\n"
     ]
    }
   ],
   "source": [
    "## 30. Calculate the sum of the following list.\n",
    "intList = [54,678,2900]\n",
    "print(sum(intList))"
   ]
  },
  {
   "cell_type": "code",
   "execution_count": 6,
   "id": "670c7f38",
   "metadata": {},
   "outputs": [
    {
     "name": "stdout",
     "output_type": "stream",
     "text": [
      "53245\n"
     ]
    }
   ],
   "source": [
    "## 31.Find the maximum value of the following list.\n",
    "maxList= [677,53245,234,236,23456,345,23526,3454]\n",
    "print(max(maxList))"
   ]
  },
  {
   "cell_type": "code",
   "execution_count": 7,
   "id": "e76770c7",
   "metadata": {},
   "outputs": [
    {
     "name": "stdout",
     "output_type": "stream",
     "text": [
      "134\n"
     ]
    }
   ],
   "source": [
    "## 32.Find the minimum value of the following list.\n",
    "minList= [351,984,1694,284,142,134,467]\n",
    "print(min(minList))"
   ]
  },
  {
   "cell_type": "code",
   "execution_count": 8,
   "id": "1a5797f0",
   "metadata": {},
   "outputs": [
    {
     "name": "stdout",
     "output_type": "stream",
     "text": [
      "[1, 2, 3, 'append me!']\n"
     ]
    }
   ],
   "source": [
    "## 33. Append the string \"append me!\" to the emnd of the list. Print the list to ensure the operation has been completed successfully.\n",
    "listToAppend = [1,2,3]\n",
    "listToAppend.append(\"append me!\")\n",
    "print(listToAppend)"
   ]
  },
  {
   "cell_type": "code",
   "execution_count": null,
   "id": "93e1d356",
   "metadata": {},
   "outputs": [],
   "source": []
  }
 ],
 "metadata": {
  "kernelspec": {
   "display_name": "Python 3 (ipykernel)",
   "language": "python",
   "name": "python3"
  },
  "language_info": {
   "codemirror_mode": {
    "name": "ipython",
    "version": 3
   },
   "file_extension": ".py",
   "mimetype": "text/x-python",
   "name": "python",
   "nbconvert_exporter": "python",
   "pygments_lexer": "ipython3",
   "version": "3.9.13"
  }
 },
 "nbformat": 4,
 "nbformat_minor": 5
}
